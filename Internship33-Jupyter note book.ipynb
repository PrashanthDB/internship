{
 "cells": [
  {
   "cell_type": "code",
   "execution_count": null,
   "id": "6ab3c5be",
   "metadata": {},
   "outputs": [],
   "source": [
    "11. Write a python program to find the factorial of a number."
   ]
  },
  {
   "cell_type": "code",
   "execution_count": 6,
   "id": "26d9d21b",
   "metadata": {},
   "outputs": [
    {
     "name": "stdout",
     "output_type": "stream",
     "text": [
      "Enter number: 0\n",
      "the factorial of 0 is 1\n"
     ]
    }
   ],
   "source": [
    "num = int(input('Enter number: '))\n",
    "factorial=1\n",
    "if num<0:\n",
    "    print('factorial doesnot exist')\n",
    "elif num==0:\n",
    "    print ('the factorial of 0 is 1')\n",
    "else:\n",
    "    for i in range (1, num+1):\n",
    "        factorial=factorial*i\n",
    "    print ('the factorial of',num ,'is',factorial)"
   ]
  },
  {
   "cell_type": "code",
   "execution_count": null,
   "id": "1d82f797",
   "metadata": {},
   "outputs": [],
   "source": [
    "12. Write a python program to find whether a number is prime or composite"
   ]
  },
  {
   "cell_type": "code",
   "execution_count": null,
   "id": "c9b007cc",
   "metadata": {},
   "outputs": [],
   "source": [
    "num = int(input('Enter the any number: '))\n",
    "if num >1:\n",
    "    for i in range(2, num):\n",
    "        if (num%i)==0:\n",
    "            print (num, \"is not a Prime number\")\n",
    "        else:\n",
    "            print (num, \"is a Prime number\")\n",
    "elif num ==0 or num==1:\n",
    "    print(num, 'is neither prime nor a composite number')\n",
    "else:\n",
    "    print (num, \"is prime number\")"
   ]
  },
  {
   "cell_type": "code",
   "execution_count": null,
   "id": "53191e6d",
   "metadata": {},
   "outputs": [],
   "source": [
    "13. Write a python program to check whether a given string is palindrome or not"
   ]
  },
  {
   "cell_type": "code",
   "execution_count": 7,
   "id": "6e2c4df1",
   "metadata": {},
   "outputs": [
    {
     "name": "stdout",
     "output_type": "stream",
     "text": [
      "Enter the word= Prashanth\n",
      "The string is not a palindrom\n"
     ]
    }
   ],
   "source": [
    "my_str= str(input(\"Enter the word= \" ))\n",
    "my_str= my_str.casefold()\n",
    "rev_str=reversed(my_str)\n",
    "if list(my_str)==list(rev_str):\n",
    "    print('The string is palindrom')\n",
    "else:\n",
    "    print ('The string is not a palindrom')"
   ]
  },
  {
   "cell_type": "code",
   "execution_count": null,
   "id": "b351a904",
   "metadata": {},
   "outputs": [],
   "source": [
    "14. Write a Python program to get the third side of right-angled triangle from two given sides."
   ]
  },
  {
   "cell_type": "code",
   "execution_count": null,
   "id": "d5564d06",
   "metadata": {},
   "outputs": [],
   "source": [
    "import math\n",
    "a= float (input('enter the base= '))\n",
    "b=float(input('enter the height= '))\n",
    "x=float(input('enter the angle= '))\n",
    "c=math.sqrt(a**2+b**2)\n",
    "print(\"Hypotunse= \",c)"
   ]
  },
  {
   "cell_type": "code",
   "execution_count": null,
   "id": "15ddee9c",
   "metadata": {},
   "outputs": [],
   "source": [
    "15. Write a python program to print the frequency of each of the characters present in a given string"
   ]
  },
  {
   "cell_type": "code",
   "execution_count": 5,
   "id": "eab9a788",
   "metadata": {},
   "outputs": [
    {
     "name": "stdout",
     "output_type": "stream",
     "text": [
      "Enter the word= Prashanth\n",
      "{'P': 1, 'r': 1, 'a': 2, 's': 1, 'h': 2, 'n': 1, 't': 1}\n"
     ]
    }
   ],
   "source": [
    "my_str= str(input(\"Enter the word= \" ))\n",
    "l= list(my_str)\n",
    "freq =[l.count(ele) for ele in l]\n",
    "a=dict(zip(l,freq))\n",
    "print(a)"
   ]
  },
  {
   "cell_type": "code",
   "execution_count": null,
   "id": "7861569d",
   "metadata": {},
   "outputs": [],
   "source": []
  }
 ],
 "metadata": {
  "kernelspec": {
   "display_name": "Python 3 (ipykernel)",
   "language": "python",
   "name": "python3"
  },
  "language_info": {
   "codemirror_mode": {
    "name": "ipython",
    "version": 3
   },
   "file_extension": ".py",
   "mimetype": "text/x-python",
   "name": "python",
   "nbconvert_exporter": "python",
   "pygments_lexer": "ipython3",
   "version": "3.9.12"
  }
 },
 "nbformat": 4,
 "nbformat_minor": 5
}
